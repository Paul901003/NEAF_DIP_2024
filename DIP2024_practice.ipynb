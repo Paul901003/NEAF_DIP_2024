{
 "cells": [
  {
   "cell_type": "code",
   "execution_count": 1,
   "metadata": {},
   "outputs": [
    {
     "name": "stdout",
     "output_type": "stream",
     "text": [
      "Requirement already satisfied: opencv-python in c:\\users\\user\\appdata\\local\\programs\\python\\python37\\lib\\site-packages (4.6.0.66)\n",
      "Requirement already satisfied: numpy>=1.14.5 in c:\\users\\user\\appdata\\local\\programs\\python\\python37\\lib\\site-packages (from opencv-python) (1.21.6)\n",
      "Requirement already satisfied: numpy in c:\\users\\user\\appdata\\local\\programs\\python\\python37\\lib\\site-packages (1.21.6)\n",
      "Requirement already satisfied: matplotlib in c:\\users\\user\\appdata\\local\\programs\\python\\python37\\lib\\site-packages (3.5.3)\n",
      "Requirement already satisfied: cycler>=0.10 in c:\\users\\user\\appdata\\local\\programs\\python\\python37\\lib\\site-packages (from matplotlib) (0.11.0)\n",
      "Requirement already satisfied: fonttools>=4.22.0 in c:\\users\\user\\appdata\\local\\programs\\python\\python37\\lib\\site-packages (from matplotlib) (4.37.3)\n",
      "Requirement already satisfied: kiwisolver>=1.0.1 in c:\\users\\user\\appdata\\local\\programs\\python\\python37\\lib\\site-packages (from matplotlib) (1.4.4)\n",
      "Requirement already satisfied: numpy>=1.17 in c:\\users\\user\\appdata\\local\\programs\\python\\python37\\lib\\site-packages (from matplotlib) (1.21.6)\n",
      "Requirement already satisfied: packaging>=20.0 in c:\\users\\user\\appdata\\local\\programs\\python\\python37\\lib\\site-packages (from matplotlib) (21.3)\n",
      "Requirement already satisfied: pillow>=6.2.0 in c:\\users\\user\\appdata\\local\\programs\\python\\python37\\lib\\site-packages (from matplotlib) (9.3.0)\n",
      "Requirement already satisfied: pyparsing>=2.2.1 in c:\\users\\user\\appdata\\local\\programs\\python\\python37\\lib\\site-packages (from matplotlib) (3.0.9)\n",
      "Requirement already satisfied: python-dateutil>=2.7 in c:\\users\\user\\appdata\\local\\programs\\python\\python37\\lib\\site-packages (from matplotlib) (2.8.2)\n",
      "Requirement already satisfied: typing-extensions in c:\\users\\user\\appdata\\local\\programs\\python\\python37\\lib\\site-packages (from kiwisolver>=1.0.1->matplotlib) (4.3.0)\n",
      "Requirement already satisfied: six>=1.5 in c:\\users\\user\\appdata\\local\\programs\\python\\python37\\lib\\site-packages (from python-dateutil>=2.7->matplotlib) (1.16.0)\n"
     ]
    }
   ],
   "source": [
    "!pip install opencv-python\n",
    "!pip install numpy\n",
    "!pip install matplotlib"
   ]
  },
  {
   "cell_type": "code",
   "execution_count": 4,
   "metadata": {},
   "outputs": [
    {
     "ename": "ModuleNotFoundError",
     "evalue": "No module named 'cv2'",
     "output_type": "error",
     "traceback": [
      "\u001b[1;31m---------------------------------------------------------------------------\u001b[0m",
      "\u001b[1;31mModuleNotFoundError\u001b[0m                       Traceback (most recent call last)",
      "Cell \u001b[1;32mIn[4], line 1\u001b[0m\n\u001b[1;32m----> 1\u001b[0m \u001b[38;5;28;01mimport\u001b[39;00m \u001b[38;5;21;01mcv2\u001b[39;00m\n\u001b[0;32m      2\u001b[0m \u001b[38;5;28;01mimport\u001b[39;00m \u001b[38;5;21;01mnumpy\u001b[39;00m \u001b[38;5;28;01mas\u001b[39;00m \u001b[38;5;21;01mnp\u001b[39;00m\n\u001b[0;32m      3\u001b[0m \u001b[38;5;28;01mimport\u001b[39;00m \u001b[38;5;21;01mmatplotlib\u001b[39;00m\u001b[38;5;21;01m.\u001b[39;00m\u001b[38;5;21;01mpyplot\u001b[39;00m \u001b[38;5;28;01mas\u001b[39;00m \u001b[38;5;21;01mplt\u001b[39;00m\n",
      "\u001b[1;31mModuleNotFoundError\u001b[0m: No module named 'cv2'"
     ]
    }
   ],
   "source": [
    "import cv2\n",
    "import numpy as np\n",
    "import matplotlib.pyplot as plt"
   ]
  },
  {
   "cell_type": "markdown",
   "metadata": {},
   "source": [
    "### 讀取與顯示數位影像"
   ]
  },
  {
   "cell_type": "code",
   "execution_count": 80,
   "metadata": {},
   "outputs": [],
   "source": [
    "img_ori=cv2.imread(r\"your path\",-1)#讀取影像檔案，第二個參數為影像的讀取方式\n",
    "cv2.imshow(\"ex_test\",img_ori)#建立視窗\n",
    "cv2.waitKey(0)#第6行WaitKey等待使用者的鍵盤輸入，單位為毫秒(ms)，例如1,000 代表等待1秒再關閉視窗，0則表示持續等待使用者輸入任意鑑後再關閉視窗。\n",
    "cv2.destroyAllWindows()#關閉所有視窗"
   ]
  },
  {
   "cell_type": "markdown",
   "metadata": {},
   "source": [
    "## 1. Histogram Equalization\n",
    "Histogram is the method to enhance image contrast.\n",
    "Please show the image grayscale histogram and do the equlization, and show the image result and histogram equalization result."
   ]
  },
  {
   "cell_type": "code",
   "execution_count": null,
   "metadata": {},
   "outputs": [],
   "source": [
    "img_ori = cv2.imread(\"input\\lena.bmp\", cv2.IMREAD_GRAYSCALE) # Read image as gray.\n",
    "\n",
    "\"\"\"\n",
    "Your code here\n",
    "\"\"\"\n",
    "\n",
    "# save result\n",
    "cv2.imwrite('output/img_ori.bmp', img_ori)\n",
    "cv2.imwrite('output/img_equa.bmp', img_equa)"
   ]
  },
  {
   "cell_type": "markdown",
   "metadata": {},
   "source": [
    "## 2.Mean blur, Gaussian blur, Median blur\n",
    "Blur is a method to deal with the noise on the image. Please input the image and use different kernel size to show blur result."
   ]
  },
  {
   "cell_type": "code",
   "execution_count": null,
   "metadata": {},
   "outputs": [],
   "source": [
    "img_noise = cv2.imread(\"input\\lena_noise.png\", cv2.IMREAD_GRAYSCALE)\n",
    "\n",
    "# Blur the image by three methods.\n",
    "\"\"\"\n",
    "Your code here\n",
    "\"\"\"\n",
    "\n",
    "#save result\n",
    "cv2.imwrite('output/img_mean_blur.png', img_mean_blur)\n",
    "cv2.imwrite('output/img_gaussian_blur.png', img_gaussian_blur)\n",
    "cv2.imwrite('output/img_median_blur.png', img_median_blur)"
   ]
  },
  {
   "cell_type": "markdown",
   "metadata": {},
   "source": [
    "## 3. Binary\n",
    "Binary is a method to transfer greyscale to 0 (black) and 255 (white) only.  \n",
    "Please do the image binary to seperate pad and background.  \n"
   ]
  },
  {
   "cell_type": "code",
   "execution_count": null,
   "metadata": {},
   "outputs": [],
   "source": [
    "binary1 = cv2.imread('input/binary_task1.bmp', cv2.IMREAD_GRAYSCALE)\n",
    "\n",
    "# Do the image binary to seperate pad and background\n",
    "\n",
    "\"\"\"\n",
    "Your code here\n",
    "\"\"\"\n",
    "\n",
    "# save result\n",
    "cv2.imwrite('output/binary_task1.bmp', thres1)"
   ]
  },
  {
   "cell_type": "code",
   "execution_count": null,
   "metadata": {},
   "outputs": [],
   "source": [
    "binary2 = cv2.imread('input/binary_task2.bmp', cv2.IMREAD_GRAYSCALE)\n",
    "\n",
    "# Do the image binary to seperate pad and background\n",
    "\n",
    "\"\"\"\n",
    "Your code here\n",
    "\"\"\"\n",
    "\n",
    "# save result\n",
    "cv2.imwrite('output/binary_task2.bmp', thres2)"
   ]
  },
  {
   "cell_type": "code",
   "execution_count": null,
   "metadata": {},
   "outputs": [],
   "source": [
    "binary3 = cv2.imread('input/binary_task3.bmp', cv2.IMREAD_GRAYSCALE)\n",
    "\n",
    "# Do the image binary to seperate pad and background\n",
    "\n",
    "\"\"\"\n",
    "Your code here\n",
    "\"\"\"\n",
    "\n",
    "# save result\n",
    "cv2.imwrite('output/binary_task3.bmp', thres3)"
   ]
  },
  {
   "cell_type": "markdown",
   "metadata": {},
   "source": [
    "## 4. HSV filter\n",
    "This method could extract the the interested part by color.  \n",
    "Please crop the yellow or blue boxes and its surrounding in the image."
   ]
  },
  {
   "cell_type": "code",
   "execution_count": null,
   "metadata": {},
   "outputs": [],
   "source": [
    "# Yellow box.\n",
    "yellow = cv2.imread('input/yellow.jpg')\n",
    "\n",
    "# Step 1. Transfer color to HSV\n",
    "\n",
    "# Step 2. Setting the color range and filter the image.\n",
    "\n",
    "# Step 3. Binary the image, find the left-top and right-bottom coordinate (x, y, w, h) or (x1, x2, y1, y2).\n",
    "\n",
    "# Step 4. Crop the image by the coordinate.\n",
    "crop_edge = 20  # surrounding 20 pixels \n",
    "cropHSV_yellow = yellow[y-crop_edge: y+h+crop_edge, x-crop_edge: x+w+crop_edge]   # take (x, y, w, h) as example.\n",
    "\n",
    "# save result\n",
    "cv2.imwrite('output/cropHSV_yellow.jpg', cropHSV_yellow)"
   ]
  },
  {
   "cell_type": "code",
   "execution_count": null,
   "metadata": {},
   "outputs": [],
   "source": [
    "# Blue box.\n",
    "blue = cv2.imread('input/blue.jpg')\n",
    "\n",
    "# Step 1. Transfer color to HSV\n",
    "\n",
    "# Step 2. Setting the color range and filter the image.\n",
    "\n",
    "# Step 3. Binary the image, find the left-top and right-bottom coordinate (x, y, w, h) or (x1, x2, y1, y2).\n",
    "\n",
    "# Step 4. Crop the image by the coordinate.\n",
    "crop_edge = 20  # surrounding 20 pixels \n",
    "cropHSV_blue = blue[y-crop_edge: y+h+crop_edge, x-crop_edge: x+w+crop_edge]   # take (x, y, w, h) as example.\n",
    "\n",
    "# save result\n",
    "cv2.imwrite('output/cropHSV_blue.jpg', cropHSV_blue)"
   ]
  },
  {
   "cell_type": "markdown",
   "metadata": {},
   "source": [
    "## 5. Morphological: erosion, dilation, open, close\n",
    "\n",
    "Those methods help to denoise, enhance the features.   \n",
    "Please use these methods to fill up the lines of the image created in the previous section."
   ]
  },
  {
   "cell_type": "code",
   "execution_count": null,
   "metadata": {},
   "outputs": [],
   "source": [
    "hsv_yellow = cv2.imread('output/cropHSV_yellow.jpg')\n",
    "\n",
    "# Try to use erosion, dilation, open, close to fill up the lines.\n",
    "\n",
    "\"\"\"\n",
    "Your code here\n",
    "\"\"\"\n",
    "\n",
    "# save result\n",
    "cv2.imwrite('output/morpho_yellow.jpg', result)"
   ]
  },
  {
   "cell_type": "code",
   "execution_count": null,
   "metadata": {},
   "outputs": [],
   "source": [
    "hsv_blue = cv2.imread('output/cropHSV_blue.jpg')\n",
    "\n",
    "# Try to use erosion, dilation, open, close to fill up the lines.\n",
    "\n",
    "\"\"\"\n",
    "Your code here\n",
    "\"\"\"\n",
    "\n",
    "# save result\n",
    "cv2.imwrite('output/morpho_blue.jpg', result)"
   ]
  },
  {
   "cell_type": "markdown",
   "metadata": {},
   "source": [
    "## **6. Find countours**\n",
    "\n",
    "Use package to find the contours in the image.\n",
    "\n",
    "Practice:\n",
    "1. Find the pad and probemark contours in the pad series images.\n",
    "2. Calculate the countours area."
   ]
  },
  {
   "cell_type": "code",
   "execution_count": null,
   "metadata": {},
   "outputs": [],
   "source": [
    "pad_task1 = cv2.imread('input/binary_task1.bmp', cv2.IMREAD_GRAYSCALE)\n",
    "\n",
    "# Find the pad and probemark contours and draw.\n",
    "\n",
    "\"\"\"\n",
    "Your code here\n",
    "\"\"\"\n",
    "\n",
    "# save and print result\n",
    "cv2.imwrite('output/pad_task1_cont.bmp', result)\n",
    "print('The pad area is ', pad_area)\n",
    "print('The probe mark area is ', probemark_area)"
   ]
  }
 ],
 "metadata": {
  "kernelspec": {
   "display_name": "Python 3",
   "language": "python",
   "name": "python3"
  },
  "language_info": {
   "codemirror_mode": {
    "name": "ipython",
    "version": 3
   },
   "file_extension": ".py",
   "mimetype": "text/x-python",
   "name": "python",
   "nbconvert_exporter": "python",
   "pygments_lexer": "ipython3",
   "version": "3.8.7"
  }
 },
 "nbformat": 4,
 "nbformat_minor": 2
}
